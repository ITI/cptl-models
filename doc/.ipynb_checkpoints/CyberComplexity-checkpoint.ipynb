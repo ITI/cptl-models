{
 "cells": [
  {
   "cell_type": "markdown",
   "metadata": {},
   "source": [
    "## Complexity Metrics of Cyber Network\n",
    "##### Gabe Weaver, 3.15.19\n",
    "For this experiment, we are going to consider the structural complexity of a cyber network.  A snippet of the network is shown below.\n",
    "\n",
    "![](images/city_of_arcoTest.png)"
   ]
  },
  {
   "cell_type": "code",
   "execution_count": 19,
   "metadata": {},
   "outputs": [],
   "source": [
    "from edu.illinois.iti.dao.CommunicationsNetworkDAO import IMNCommunicationsNetworkDAO\n",
    "import json\n",
    "import matplotlib.pyplot as plt\n",
    "import networkx as nx\n",
    "import plotly\n",
    "import plotly.plotly as py\n",
    "import plotly.graph_objs as go\n",
    "\n",
    "\n",
    "# 1.  Read in the network\n",
    "networkFilePath = \"../data/testing/city_of_arcoTest.imn\"\n",
    "cnDAO = IMNCommunicationsNetworkDAO.create(networkFilePath)\n",
    "gCyber = cnDAO.getNetwork(networkFilePath)"
   ]
  },
  {
   "cell_type": "markdown",
   "metadata": {},
   "source": [
    "### 2.  Compute Complexity Metrics\n",
    "In this step, we compute complexity metrics on the graph."
   ]
  },
  {
   "cell_type": "markdown",
   "metadata": {},
   "source": [
    "### 4.  See How Complexity Metrics Affect Performance Measures\n"
   ]
  },
  {
   "cell_type": "markdown",
   "metadata": {},
   "source": [
    "### 5.  Visualize Critical Nodes\n",
    "Next in the pipeline will be to visualize critical nodes relative to some metric value."
   ]
  },
  {
   "cell_type": "code",
   "execution_count": 33,
   "metadata": {},
   "outputs": [],
   "source": [
    "#  Based on https://plot.ly/python/network-graphs\n",
    "\n",
    "def plotGraph(G):\n",
    "    pos = nx.get_node_attributes(G,'pos')\n",
    "    \n",
    "    #-- Get Node positions\n",
    "    dmin=1\n",
    "    ncenter=0\n",
    "    for n in pos:\n",
    "        x,y=pos[n]\n",
    "        d=(x-0.5)**2+(y-0.5)**2\n",
    "        if d<dmin:\n",
    "            ncenter=n\n",
    "            dmin=d\n",
    "\n",
    "    p=nx.single_source_shortest_path_length(G,ncenter)\n",
    "\n",
    "    #-- Create Edges\n",
    "    edge_trace = go.Scatter(\n",
    "        x=[],\n",
    "        y=[],\n",
    "        line=dict(width=0.5,color='#888'),\n",
    "        hoverinfo='none',\n",
    "        mode='lines')\n",
    "\n",
    "    for edge in G.edges():\n",
    "        x0, y0 = G.node[edge[0]]['pos']\n",
    "        x1, y1 = G.node[edge[1]]['pos']\n",
    "        edge_trace['x'] += tuple([x0, x1, None])\n",
    "        edge_trace['y'] += tuple([y0, y1, None])\n",
    "\n",
    "    node_trace = go.Scatter(\n",
    "        x=[],\n",
    "        y=[],\n",
    "        text=[],\n",
    "        mode='markers',\n",
    "        hoverinfo='text',\n",
    "        marker=dict(\n",
    "            showscale=True,\n",
    "            # colorscale options\n",
    "            #'Greys' | 'YlGnBu' | 'Greens' | 'YlOrRd' | 'Bluered' | 'RdBu' |\n",
    "            #'Reds' | 'Blues' | 'Picnic' | 'Rainbow' | 'Portland' | 'Jet' |\n",
    "            #'Hot' | 'Blackbody' | 'Earth' | 'Electric' | 'Viridis' |\n",
    "            colorscale='YlGnBu',\n",
    "            reversescale=True,\n",
    "            color=[],\n",
    "            size=10,\n",
    "            colorbar=dict(\n",
    "                thickness=15,\n",
    "                title='Node Connections',\n",
    "                xanchor='left',\n",
    "                titleside='right'\n",
    "            ),\n",
    "            line=dict(width=2)))\n",
    "\n",
    "    for node in G.nodes():\n",
    "        x, y = G.node[node]['pos']\n",
    "        node_trace['x'] += tuple([x])\n",
    "        node_trace['y'] += tuple([y])\n",
    "        \n",
    "    # Color Node Points By Adjacency - hack this for other outputs\n",
    "    for node, adjacencies in enumerate(G.adjacency()):\n",
    "        node_trace['marker']['color']+=tuple([len(adjacencies[1])])\n",
    "        node_info = '# of connections: '+str(len(adjacencies[1]))\n",
    "        node_trace['text']+=tuple([node_info])\n",
    "\n",
    "    # Create Network Graph\n",
    "    fig = go.Figure(data=[edge_trace, node_trace],\n",
    "             layout=go.Layout(\n",
    "                title='<br>Network graph made with Python',\n",
    "                titlefont=dict(size=16),\n",
    "                showlegend=False,\n",
    "                hovermode='closest',\n",
    "                margin=dict(b=20,l=5,r=5,t=40),\n",
    "                annotations=[ dict(\n",
    "                    text=\"Python code: <a href='https://plot.ly/ipython-notebooks/network-graphs/'> https://plot.ly/ipython-notebooks/network-graphs/</a>\",\n",
    "                    showarrow=False,\n",
    "                    xref=\"paper\", yref=\"paper\",\n",
    "                    x=0.005, y=-0.002 ) ],\n",
    "                xaxis=dict(showgrid=False, zeroline=False, showticklabels=False),\n",
    "                yaxis=dict(showgrid=False, zeroline=False, showticklabels=False)))\n",
    "    return fig\n"
   ]
  },
  {
   "cell_type": "code",
   "execution_count": 34,
   "metadata": {},
   "outputs": [
    {
     "data": {
      "text/html": [
       "<iframe id=\"igraph\" scrolling=\"no\" style=\"border:none;\" seamless=\"seamless\" src=\"https://plot.ly/~gweaver/10.embed\" height=\"525px\" width=\"100%\"></iframe>"
      ],
      "text/plain": [
       "<plotly.tools.PlotlyDisplay object>"
      ]
     },
     "execution_count": 34,
     "metadata": {},
     "output_type": "execute_result"
    }
   ],
   "source": [
    "plotly.tools.set_credentials_file(username='gweaver', api_key='CWI1yxjAs6jKd2ICgW7y')\n",
    "plotly.tools.set_config_file(world_readable=True)\n",
    "\n",
    "# Set node positions according to a layout\n",
    "nodePositions = nx.spring_layout(gCyber)\n",
    "for nIdx, posValue in nodePositions.items():\n",
    "    gCyber.nodes[nIdx]['pos'] = posValue\n",
    "\n",
    "fig = plotGraph(gCyber)\n",
    "py.iplot(fig, filename='networkx')"
   ]
  }
 ],
 "metadata": {
  "kernelspec": {
   "display_name": "Python 3",
   "language": "python",
   "name": "python3"
  },
  "language_info": {
   "codemirror_mode": {
    "name": "ipython",
    "version": 3
   },
   "file_extension": ".py",
   "mimetype": "text/x-python",
   "name": "python",
   "nbconvert_exporter": "python",
   "pygments_lexer": "ipython3",
   "version": "3.7.1"
  }
 },
 "nbformat": 4,
 "nbformat_minor": 2
}
