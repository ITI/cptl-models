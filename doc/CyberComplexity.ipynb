{
 "cells": [
  {
   "cell_type": "markdown",
   "metadata": {},
   "source": [
    "## Complexity Metrics of Cyber Network\n",
    "##### Gabe Weaver, 3.15.19\n",
    "For this experiment, we are going to consider the structural complexity of a cyber network.  A snippet of the network is shown below.\n",
    "\n",
    "![](images/city_of_arcoTest.png)"
   ]
  },
  {
   "cell_type": "code",
   "execution_count": 10,
   "metadata": {},
   "outputs": [],
   "source": [
    "from edu.illinois.iti.dao.CommunicationsNetworkDAO import IMNCommunicationsNetworkDAO\n",
    "import json\n",
    "import matplotlib.pyplot as plt\n",
    "import networkx as nx\n",
    "import pandas as pd\n",
    "import plotly\n",
    "import plotly.plotly as py\n",
    "import plotly.graph_objs as go\n",
    "\n",
    "\n",
    "# 1.  Read in the network\n",
    "networkFilePath = \"../data/testing/city_of_arcoTest.imn\"\n",
    "cnDAO = IMNCommunicationsNetworkDAO.create(networkFilePath)\n",
    "gCyber = cnDAO.getNetwork(networkFilePath)"
   ]
  },
  {
   "cell_type": "markdown",
   "metadata": {},
   "source": [
    "### 2.  Compute Complexity Metrics\n",
    "In this step, we compute complexity metrics on the graph.  When a complexity metric is applied to a graph, the implementation will decorate that graph with an attribute whose value is the output of that metric.\n",
    "\n",
    "#### Degree\n",
    "The degree of a node is a simple measure to understand its importance."
   ]
  },
  {
   "cell_type": "code",
   "execution_count": 13,
   "metadata": {},
   "outputs": [],
   "source": [
    "def computeNodeDegrees(G):\n",
    "    \"\"\"\n",
    "    Decorate nodes in the graph with an attribute \n",
    "      name 'nx:in_degree', 'nx:out_degree'.  The value \n",
    "      of this attribute is an integer that is the \n",
    "      degree of the node.\n",
    "    \"\"\"\n",
    "    for nIdx in G.nodes():\n",
    "        node = G.nodes[nIdx]\n",
    "        node['nx:in_degree'] = G.in_degree(nIdx)\n",
    "        node['nx:out_degree'] = G.out_degree(nIdx)\n",
    "        node['gc:degree'] = G.in_degree(nIdx) + G.out_degree(nIdx)\n",
    "    return G    \n",
    "\n",
    "def computeMetrics(G, metrics):\n",
    "    for metric in metrics:\n",
    "        if \"gc:degree\" == metric:\n",
    "            computeNodeDegrees(G)\n",
    "        else:\n",
    "            raise NotImplementedError() \n",
    "    return"
   ]
  },
  {
   "cell_type": "markdown",
   "metadata": {},
   "source": [
    "### 4.  See How Complexity Metrics Affect Performance Measures\n"
   ]
  },
  {
   "cell_type": "code",
   "execution_count": 38,
   "metadata": {},
   "outputs": [
    {
     "data": {
      "text/html": [
       "<div>\n",
       "<style scoped>\n",
       "    .dataframe tbody tr th:only-of-type {\n",
       "        vertical-align: middle;\n",
       "    }\n",
       "\n",
       "    .dataframe tbody tr th {\n",
       "        vertical-align: top;\n",
       "    }\n",
       "\n",
       "    .dataframe thead th {\n",
       "        text-align: right;\n",
       "    }\n",
       "</style>\n",
       "<table border=\"1\" class=\"dataframe\">\n",
       "  <thead>\n",
       "    <tr style=\"text-align: right;\">\n",
       "      <th></th>\n",
       "      <th>gc:degree</th>\n",
       "      <th>imn:hostname</th>\n",
       "      <th>imn:interface</th>\n",
       "      <th>name</th>\n",
       "      <th>nx:in_degree</th>\n",
       "      <th>nx:out_degree</th>\n",
       "    </tr>\n",
       "  </thead>\n",
       "  <tbody>\n",
       "    <tr>\n",
       "      <th>0</th>\n",
       "      <td>7.0</td>\n",
       "      <td>RJ45PP-02-1</td>\n",
       "      <td>e0</td>\n",
       "      <td>n11</td>\n",
       "      <td>5.0</td>\n",
       "      <td>2.0</td>\n",
       "    </tr>\n",
       "    <tr>\n",
       "      <th>1</th>\n",
       "      <td>6.0</td>\n",
       "      <td>ENS-02-3</td>\n",
       "      <td>e0</td>\n",
       "      <td>n3</td>\n",
       "      <td>0.0</td>\n",
       "      <td>6.0</td>\n",
       "    </tr>\n",
       "    <tr>\n",
       "      <th>2</th>\n",
       "      <td>6.0</td>\n",
       "      <td>ENS-5-1</td>\n",
       "      <td>e0</td>\n",
       "      <td>n90</td>\n",
       "      <td>0.0</td>\n",
       "      <td>6.0</td>\n",
       "    </tr>\n",
       "    <tr>\n",
       "      <th>3</th>\n",
       "      <td>5.0</td>\n",
       "      <td>ENS-2-1</td>\n",
       "      <td>e0</td>\n",
       "      <td>n16</td>\n",
       "      <td>4.0</td>\n",
       "      <td>1.0</td>\n",
       "    </tr>\n",
       "    <tr>\n",
       "      <th>4</th>\n",
       "      <td>5.0</td>\n",
       "      <td>ENS-15-1</td>\n",
       "      <td>e0</td>\n",
       "      <td>n19</td>\n",
       "      <td>3.0</td>\n",
       "      <td>2.0</td>\n",
       "    </tr>\n",
       "  </tbody>\n",
       "</table>\n",
       "</div>"
      ],
      "text/plain": [
       "   gc:degree imn:hostname imn:interface name  nx:in_degree  nx:out_degree\n",
       "0        7.0  RJ45PP-02-1            e0  n11           5.0            2.0\n",
       "1        6.0     ENS-02-3            e0   n3           0.0            6.0\n",
       "2        6.0      ENS-5-1            e0  n90           0.0            6.0\n",
       "3        5.0      ENS-2-1            e0  n16           4.0            1.0\n",
       "4        5.0     ENS-15-1            e0  n19           3.0            2.0"
      ]
     },
     "execution_count": 38,
     "metadata": {},
     "output_type": "execute_result"
    }
   ],
   "source": [
    "# Compute complexity metrics of interest\n",
    "metrics = [\"gc:degree\"]\n",
    "computeMetrics(gCyber, metrics)\n",
    "\n",
    "# Sort nodes by a metric value \n",
    "nodes = gCyber.nodes(data=True)\n",
    "sNodes = sorted(nodes, key=lambda x: x[1]['gc:degree'], reverse=True)\n",
    "\n",
    "df = pd.DataFrame()\n",
    "for node in sNodes:\n",
    "    row = pd.Series( node[1] )\n",
    "    df = df.append(row, ignore_index=True)\n",
    "df.head()"
   ]
  },
  {
   "cell_type": "markdown",
   "metadata": {},
   "source": [
    "So with respect to the degree metric, we should be looking at the effect of disrupting the assets in the table above on some Key Performance Indicators within the water treatment plant's cyber network.  \n",
    "\n",
    "From looking at the diagram above:\n",
    "* RJ45PP-02-01 connects the Plant 1 Operation's Room to the Plant 1 Computer room\n",
    "* ENS-02-03 is in the Plant 1 Computer Room\n",
    "* ENS-5-1 is in the Plant 2 Operations Room\n",
    "\n",
    "**Ask Tim, etc:  What KPI should we be using to capture normal behavior?**\n"
   ]
  },
  {
   "cell_type": "markdown",
   "metadata": {},
   "source": [
    "### 5.  Visualize Critical Nodes\n",
    "Next in the pipeline will be to visualize critical nodes relative to some metric value."
   ]
  },
  {
   "cell_type": "code",
   "execution_count": 3,
   "metadata": {},
   "outputs": [],
   "source": [
    "#  Based on https://plot.ly/python/network-graphs\n",
    "\n",
    "def plotGraph(G, metricKey, nodeLabelKey):\n",
    "    pos = nx.get_node_attributes(G,'pos')\n",
    "    \n",
    "    #-- Get Node positions\n",
    "    dmin=1\n",
    "    ncenter=0\n",
    "    for n in pos:\n",
    "        x,y=pos[n]\n",
    "        d=(x-0.5)**2+(y-0.5)**2\n",
    "        if d<dmin:\n",
    "            ncenter=n\n",
    "            dmin=d\n",
    "\n",
    "    p=nx.single_source_shortest_path_length(G,ncenter)\n",
    "\n",
    "    #-- Create Edges\n",
    "    edge_trace = go.Scatter(\n",
    "        x=[],\n",
    "        y=[],\n",
    "        line=dict(width=0.5,color='#888'),\n",
    "        hoverinfo='none',\n",
    "        mode='lines')\n",
    "\n",
    "    for edge in G.edges():\n",
    "        x0, y0 = G.node[edge[0]]['pos']\n",
    "        x1, y1 = G.node[edge[1]]['pos']\n",
    "        edge_trace['x'] += tuple([x0, x1, None])\n",
    "        edge_trace['y'] += tuple([y0, y1, None])\n",
    "\n",
    "    node_trace = go.Scatter(\n",
    "        x=[],\n",
    "        y=[],\n",
    "        text=[],\n",
    "        mode='markers',\n",
    "        hoverinfo='text',\n",
    "        marker=dict(\n",
    "            showscale=True,\n",
    "            # colorscale options\n",
    "            #'Greys' | 'YlGnBu' | 'Greens' | 'YlOrRd' | 'Bluered' | 'RdBu' |\n",
    "            #'Reds' | 'Blues' | 'Picnic' | 'Rainbow' | 'Portland' | 'Jet' |\n",
    "            #'Hot' | 'Blackbody' | 'Earth' | 'Electric' | 'Viridis' |\n",
    "            colorscale='YlGnBu',\n",
    "            reversescale=True,\n",
    "            color=[],\n",
    "            size=10,\n",
    "            colorbar=dict(\n",
    "                thickness=15,\n",
    "                title='Node Connections',\n",
    "                xanchor='left',\n",
    "                titleside='right'\n",
    "            ),\n",
    "            line=dict(width=2)))\n",
    "\n",
    "    for node in G.nodes():\n",
    "        x, y = G.node[node]['pos']\n",
    "        node_trace['x'] += tuple([x])\n",
    "        node_trace['y'] += tuple([y])\n",
    "        \n",
    "    # Color Node Points By Metric Value\n",
    "    for nIdx in G.nodes():\n",
    "        node = G.nodes[nIdx]\n",
    "        metricValue = node[metricKey]\n",
    "        \n",
    "        labelValue = \"\"\n",
    "        if nodeLabelKey in node:\n",
    "            labelValue = node[nodeLabelKey]\n",
    "        else:\n",
    "            print(node)\n",
    "\n",
    "        node_trace['marker']['color']+=tuple([metricValue])\n",
    "        node_info = labelValue\n",
    "        node_trace['text']+=tuple([node_info])\n",
    "\n",
    "    # Create Network Graph\n",
    "    fig = go.Figure(data=[edge_trace, node_trace],\n",
    "             layout=go.Layout(\n",
    "                title='<br>Network graph made with Python',\n",
    "                titlefont=dict(size=16),\n",
    "                showlegend=False,\n",
    "                hovermode='closest',\n",
    "                margin=dict(b=20,l=5,r=5,t=40),\n",
    "                annotations=[ dict(\n",
    "                    text=\"Python code: <a href='https://plot.ly/ipython-notebooks/network-graphs/'> https://plot.ly/ipython-notebooks/network-graphs/</a>\",\n",
    "                    showarrow=False,\n",
    "                    xref=\"paper\", yref=\"paper\",\n",
    "                    x=0.005, y=-0.002 ) ],\n",
    "                xaxis=dict(showgrid=False, zeroline=False, showticklabels=False),\n",
    "                yaxis=dict(showgrid=False, zeroline=False, showticklabels=False)))\n",
    "    return fig\n"
   ]
  },
  {
   "cell_type": "code",
   "execution_count": 4,
   "metadata": {},
   "outputs": [
    {
     "name": "stderr",
     "output_type": "stream",
     "text": [
      "/home/tater/anaconda3/lib/python3.7/site-packages/IPython/core/display.py:689: UserWarning:\n",
      "\n",
      "Consider using IPython.display.IFrame instead\n",
      "\n"
     ]
    },
    {
     "data": {
      "text/html": [
       "<iframe id=\"igraph\" scrolling=\"no\" style=\"border:none;\" seamless=\"seamless\" src=\"https://plot.ly/~gweaver/10.embed\" height=\"525px\" width=\"100%\"></iframe>"
      ],
      "text/plain": [
       "<plotly.tools.PlotlyDisplay object>"
      ]
     },
     "execution_count": 4,
     "metadata": {},
     "output_type": "execute_result"
    }
   ],
   "source": [
    "plotly.tools.set_credentials_file(username='gweaver', api_key='CWI1yxjAs6jKd2ICgW7y')\n",
    "plotly.tools.set_config_file(world_readable=True)\n",
    "\n",
    "# Set node positions according to a layout\n",
    "nodePositions = nx.spring_layout(gCyber)\n",
    "for nIdx, posValue in nodePositions.items():\n",
    "    gCyber.nodes[nIdx]['pos'] = posValue\n",
    "\n",
    "computeNodeDegrees(gCyber)\n",
    "fig = plotGraph(gCyber, metricKey=\"gc:degree\",nodeLabelKey=\"imn:hostname\")\n",
    "py.iplot(fig, filename='networkx')"
   ]
  },
  {
   "cell_type": "code",
   "execution_count": null,
   "metadata": {},
   "outputs": [],
   "source": []
  }
 ],
 "metadata": {
  "kernelspec": {
   "display_name": "Python 3",
   "language": "python",
   "name": "python3"
  },
  "language_info": {
   "codemirror_mode": {
    "name": "ipython",
    "version": 3
   },
   "file_extension": ".py",
   "mimetype": "text/x-python",
   "name": "python",
   "nbconvert_exporter": "python",
   "pygments_lexer": "ipython3",
   "version": "3.7.1"
  }
 },
 "nbformat": 4,
 "nbformat_minor": 2
}
